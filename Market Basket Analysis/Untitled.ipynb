{
 "cells": [
  {
   "cell_type": "code",
   "execution_count": 3,
   "metadata": {},
   "outputs": [
    {
     "name": "stdout",
     "output_type": "stream",
     "text": [
      "['JUMBO BAG PINK POLKADOT', 'JUMBO BAG RED RETROSPOT']: 871 times.\n",
      "['GREEN REGENCY TEACUP AND SAUCER', 'PINK REGENCY TEACUP AND SAUCER']: 905 times.\n",
      "['ALARM CLOCK BAKELIKE GREEN', 'ALARM CLOCK BAKELIKE RED']: 711 times.\n",
      "['JUMBO BAG RED RETROSPOT', 'JUMBO STORAGE BAG SUKI']: 756 times.\n",
      "['GREEN REGENCY TEACUP AND SAUCER', 'ROSES REGENCY TEACUP AND SAUCER']: 861 times.\n",
      "['LUNCH BAG  BLACK SKULL.', 'LUNCH BAG RED RETROSPOT']: 705 times.\n",
      "['\"KEY FOB', '\"KEY FOB']: 809 times.\n"
     ]
    }
   ],
   "source": [
    "from collections import defaultdict\n",
    "# import openpyxl\n",
    "# import csv\n",
    "\n",
    "TRESHOLD = 700\n",
    "item_counts = defaultdict(int)\n",
    "pair_counts = defaultdict(int)\n",
    "frequent_items = set()\n",
    "frequent_pairs = set()\n",
    "\n",
    "\n",
    "def normalizeGroup(*args):\n",
    "\treturn str(sorted(args))\n",
    "\n",
    "# wb = openpyxl.load_workbook('Online_Retail.xlsx')\n",
    "# sh = wb.get_active_sheet()\n",
    "# with open('test.csv', 'wb') as f:\n",
    "#     c = csv.writer(f)\n",
    "#     for r in sh.rows:\n",
    "#         c.writerow([cell.value for cell in r])\n",
    "\n",
    "f = open('Online_Retail.csv', 'r')\n",
    "lines = f.readlines()\n",
    "f.close()\n",
    "\n",
    "\n",
    "tx = defaultdict(list)\n",
    "for i in range(1, len(lines)):\n",
    "\tdata = lines[i].split(',')\n",
    "\ttx[data[0].strip()].append(data[2].strip())\n",
    "\n",
    "\n",
    "#first pass............................................\n",
    "\n",
    "#find candidate item\n",
    "for tid in tx:\n",
    "\tfor item in tx[tid]:\n",
    "\t\titem_counts[item] += 1\n",
    "\n",
    "#filter for frequent items\n",
    "for key in item_counts:\n",
    "\tif item_counts[key] >= TRESHOLD:\n",
    "\t\tfrequent_items.add(key)\n",
    "\n",
    "# for item in frequent_items:\n",
    "# \tprint(item)\n",
    "\n",
    "\n",
    "#second pass............................................\n",
    "\n",
    "#find candidate pair\n",
    "for tid in tx:\n",
    "\titems = tx[tid]\n",
    "\tfor idx1 in range(len(items)-1):\n",
    "\t\tif items[idx1] not in frequent_items:\n",
    "\t\t\tcontinue\n",
    "\t\tfor idx2 in range(idx1+1, len(items)):\n",
    "\t\t\tif items[idx2] not in frequent_items:\n",
    "\t\t\t\tcontinue\n",
    "\t\t\tpair = normalizeGroup(items[idx1], items[idx2])\n",
    "\t\t\tpair_counts[pair] += 1\n",
    "\n",
    "#filter frequent pairs\n",
    "for key in pair_counts:\n",
    "\tif pair_counts[key] >= TRESHOLD:\n",
    "\t\tfrequent_pairs.add(key)\n",
    "\n",
    "for p in frequent_pairs:\n",
    "\tprint(p + \": \" + str(pair_counts[p]) + \" times.\")"
   ]
  },
  {
   "cell_type": "code",
   "execution_count": null,
   "metadata": {},
   "outputs": [],
   "source": []
  }
 ],
 "metadata": {
  "kernelspec": {
   "display_name": "Python 3",
   "language": "python",
   "name": "python3"
  },
  "language_info": {
   "codemirror_mode": {
    "name": "ipython",
    "version": 3
   },
   "file_extension": ".py",
   "mimetype": "text/x-python",
   "name": "python",
   "nbconvert_exporter": "python",
   "pygments_lexer": "ipython3",
   "version": "3.7.3"
  }
 },
 "nbformat": 4,
 "nbformat_minor": 2
}
